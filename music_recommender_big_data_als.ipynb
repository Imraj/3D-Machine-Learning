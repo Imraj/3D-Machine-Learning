{
  "nbformat": 4,
  "nbformat_minor": 0,
  "metadata": {
    "colab": {
      "provenance": [],
      "authorship_tag": "ABX9TyPKVwEYXg5+RlX++URMteu7",
      "include_colab_link": true
    },
    "kernelspec": {
      "name": "python3",
      "display_name": "Python 3"
    },
    "language_info": {
      "name": "python"
    }
  },
  "cells": [
    {
      "cell_type": "markdown",
      "metadata": {
        "id": "view-in-github",
        "colab_type": "text"
      },
      "source": [
        "<a href=\"https://colab.research.google.com/github/Imraj/3D-Machine-Learning/blob/master/music_recommender_big_data_als.ipynb\" target=\"_parent\"><img src=\"https://colab.research.google.com/assets/colab-badge.svg\" alt=\"Open In Colab\"/></a>"
      ]
    },
    {
      "cell_type": "markdown",
      "source": [
        "##**Setup dev environment**"
      ],
      "metadata": {
        "id": "vlfiaKw_3hqi"
      }
    },
    {
      "cell_type": "code",
      "source": [
        "!pip install pyspark"
      ],
      "metadata": {
        "colab": {
          "base_uri": "https://localhost:8080/"
        },
        "id": "8lMz4Y4P0LCe",
        "outputId": "a6b5dcaf-ef3e-472c-e0bd-55aca750016e"
      },
      "execution_count": 17,
      "outputs": [
        {
          "output_type": "stream",
          "name": "stdout",
          "text": [
            "Looking in indexes: https://pypi.org/simple, https://us-python.pkg.dev/colab-wheels/public/simple/\n",
            "Requirement already satisfied: pyspark in /usr/local/lib/python3.9/dist-packages (3.3.2)\n",
            "Requirement already satisfied: py4j==0.10.9.5 in /usr/local/lib/python3.9/dist-packages (from pyspark) (0.10.9.5)\n"
          ]
        }
      ]
    },
    {
      "cell_type": "markdown",
      "source": [
        "**Import Packages** \n"
      ],
      "metadata": {
        "id": "qmnegP5B3uVu"
      }
    },
    {
      "cell_type": "code",
      "source": [
        "from google.colab import drive\n",
        "import os\n",
        "import pandas as pd\n",
        "import numpy as np\n",
        "from pyspark.ml.recommendation import ALS\n",
        "from pyspark.sql import SparkSession\n",
        "from pyspark.sql.functions import col\n",
        "from pyspark.ml.feature import StandardScaler\n",
        "from pyspark.ml.recommendation import ALS\n",
        "from pyspark.sql.functions import max, col\n",
        "from pyspark.ml.feature import StringIndexer, OneHotEncoder\n",
        "from pyspark.ml import Pipeline\n",
        "from pyspark.sql.functions import col, concat, lit"
      ],
      "metadata": {
        "id": "IkM_xxaKwQj_"
      },
      "execution_count": 19,
      "outputs": []
    },
    {
      "cell_type": "markdown",
      "source": [
        "**mount google drive to access the dataset from it's directory**"
      ],
      "metadata": {
        "id": "u4MgOrMx4LCi"
      }
    },
    {
      "cell_type": "code",
      "source": [
        "drive.mount(\"/content/drive\")\n",
        "os.chdir('/content/drive/My Drive/collaborative filtering/dataset')"
      ],
      "metadata": {
        "id": "qu6HHE6J4HFC",
        "colab": {
          "base_uri": "https://localhost:8080/"
        },
        "outputId": "d36401cd-a932-460b-ff3a-3f9aa1f4716b"
      },
      "execution_count": 20,
      "outputs": [
        {
          "output_type": "stream",
          "name": "stdout",
          "text": [
            "Drive already mounted at /content/drive; to attempt to forcibly remount, call drive.mount(\"/content/drive\", force_remount=True).\n"
          ]
        }
      ]
    },
    {
      "cell_type": "code",
      "source": [
        "!ls"
      ],
      "metadata": {
        "colab": {
          "base_uri": "https://localhost:8080/"
        },
        "id": "AfQcW1G9xR9v",
        "outputId": "8e116dda-129f-4f16-85a4-201825941318"
      },
      "execution_count": 21,
      "outputs": [
        {
          "output_type": "stream",
          "name": "stdout",
          "text": [
            "ydata-ymusic-artist-names-v1_0.txt  ydata-ymusic-user-artist-ratings-v1_0.txt\n"
          ]
        }
      ]
    },
    {
      "cell_type": "markdown",
      "source": [
        "## **Create Dataset**\n",
        "\n",
        "\n",
        "\n",
        "1.   Load data from the text files\n",
        "2.   Normalize the ratings(0-1) by diving each rating with the maximum rating \n",
        "3.   Split dataset into training and test dataset\n",
        "\n"
      ],
      "metadata": {
        "id": "Ry53tbOu4k9Q"
      }
    },
    {
      "cell_type": "code",
      "source": [
        "# Create a Spark session\n",
        "spark = SparkSession.builder.appName('MusicRecommender').getOrCreate()\n",
        "\n",
        "# Load the artist names data\n",
        "artist_names = spark.read.csv('ydata-ymusic-artist-names-v1_0.txt', header=None, sep='\\t')\n",
        "\n",
        "# Load the user ratings data\n",
        "user_ratings = spark.read.csv('ydata-ymusic-user-artist-ratings-v1_0.txt', header=None, sep='\\t')"
      ],
      "metadata": {
        "id": "9KP6Hd0U6otT"
      },
      "execution_count": 23,
      "outputs": []
    },
    {
      "cell_type": "code",
      "source": [
        "# Rename the columns of the user ratings dataframe\n",
        "user_ratings = user_ratings.selectExpr('_c0 as userId', '_c1 as artistId', '_c2 as rating')\n"
      ],
      "metadata": {
        "id": "rIs-cR9zyqzS"
      },
      "execution_count": 24,
      "outputs": []
    },
    {
      "cell_type": "code",
      "source": [
        "# Rename the columns of the user ratings dataframe\n",
        "artist_names = artist_names.selectExpr('_c0 as artistId', '_c1 as artistName')"
      ],
      "metadata": {
        "id": "Xt1FIGvqzFrg"
      },
      "execution_count": 25,
      "outputs": []
    },
    {
      "cell_type": "code",
      "source": [
        "# Join the artist names dataframe with the user ratings dataframe\n",
        "joined_data = artist_names.join(user_ratings, 'artistId')\n"
      ],
      "metadata": {
        "id": "8IN7IlyizOLw"
      },
      "execution_count": 26,
      "outputs": []
    },
    {
      "cell_type": "markdown",
      "source": [
        "**Normalize Ratings**"
      ],
      "metadata": {
        "id": "Ckrm7XKz5R64"
      }
    },
    {
      "cell_type": "code",
      "source": [
        "\n",
        "# Compute the maximum rating\n",
        "max_rating = joined_data.agg(max(col('rating'))).collect()[0][0]\n",
        "\n",
        "# Create a new column with normalized ratings\n",
        "joined_data_norm = joined_data.withColumn('normalized_rating', col('rating') / max_rating)"
      ],
      "metadata": {
        "id": "v42cWGWE5DlY"
      },
      "execution_count": null,
      "outputs": []
    },
    {
      "cell_type": "code",
      "source": [
        "joined_data_norm.sample(0.1, seed=123).show()"
      ],
      "metadata": {
        "colab": {
          "base_uri": "https://localhost:8080/"
        },
        "id": "5rKfY8LD-QXV",
        "outputId": "ae7c9eae-d6cc-42f7-85e0-be17cd4e723a"
      },
      "execution_count": 27,
      "outputs": [
        {
          "output_type": "stream",
          "name": "stdout",
          "text": [
            "+--------+------------------+------+------+------------------+\n",
            "|artistId|        artistName|userId|rating| normalized_rating|\n",
            "+--------+------------------+------+------+------------------+\n",
            "| 1045525|      Tupac Shakur|     1|   100|1.0101010101010102|\n",
            "| 1047584|      Shadows Fall|     1|   100|1.0101010101010102|\n",
            "| 1018143|    Mint Condition|     2|     0|               0.0|\n",
            "| 1053438|             Musiq|     2|    90|0.9090909090909091|\n",
            "| 1019512|   Nine Inch Nails|     4|    90|0.9090909090909091|\n",
            "| 1030811|     Jack Off Jill|     4|    90|0.9090909090909091|\n",
            "| 1042272| The White Stripes|     4|    90|0.9090909090909091|\n",
            "| 1049897|        Norma Jean|     4|     0|               0.0|\n",
            "| 1099394|  Coheed & Cambria|     4|     0|               0.0|\n",
            "| 1014120|          R. Kelly|     5|   100|1.0101010101010102|\n",
            "| 1014252|          Kid Rock|     5|     0|               0.0|\n",
            "| 1022980|         The Roots|     5|    90|0.9090909090909091|\n",
            "| 1026260|       Keith Sweat|     5|   100|1.0101010101010102|\n",
            "| 1098048|       Simple Plan|     5|     0|               0.0|\n",
            "| 1099251|        Young Gunz|     5|   100|1.0101010101010102|\n",
            "| 1010542|     Goo Goo Dolls|     6|    70|0.7070707070707071|\n",
            "| 1015424|    Less Than Jake|     6|    50|0.5050505050505051|\n",
            "| 1017240|   Matchbox Twenty|     6|    50|0.5050505050505051|\n",
            "| 1021142|        Pink Floyd|     6|     0|               0.0|\n",
            "| 1022925|The Rolling Stones|     6|    70|0.7070707070707071|\n",
            "+--------+------------------+------+------+------------------+\n",
            "only showing top 20 rows\n",
            "\n"
          ]
        }
      ]
    },
    {
      "cell_type": "markdown",
      "source": [
        "**Encode the categorical field**"
      ],
      "metadata": {
        "id": "AxBVxaoUuTwm"
      }
    },
    {
      "cell_type": "code",
      "source": [
        "\n",
        "# Encode user_id column\n",
        "user_id_indexer = StringIndexer(inputCol='userId', outputCol='userId_index')\n",
        "user_id_encoder = OneHotEncoder(inputCol='userId_index', outputCol='userId_vec')\n",
        "\n",
        "# Encode artist_id column\n",
        "artist_id_indexer = StringIndexer(inputCol='artistId', outputCol='artistId_index')\n",
        "artist_id_encoder = OneHotEncoder(inputCol='artistId_index', outputCol='artistId_vec')\n",
        "\n",
        "# Encode artist_name column\n",
        "artist_name_indexer = StringIndexer(inputCol='artistName', outputCol='artistName_index')\n",
        "artist_name_encoder = OneHotEncoder(inputCol='artistName_index', outputCol='artistName_vec')\n",
        "\n",
        "# Chain the encoders together into a single pipeline\n",
        "encoder_pipeline = Pipeline(stages=[user_id_indexer, user_id_encoder,\n",
        "                                    artist_id_indexer, artist_id_encoder,\n",
        "                                    artist_name_indexer, artist_name_encoder])\n",
        "\n",
        "# Fit the encoder pipeline to the training data\n",
        "encoded_training_data = encoder_pipeline.fit(joined_data_norm).transform(joined_data_norm)\n"
      ],
      "metadata": {
        "id": "T9IouDuVurpp"
      },
      "execution_count": null,
      "outputs": []
    },
    {
      "cell_type": "code",
      "source": [
        "encoded_training_data.sample(0.1, seed=123).show()"
      ],
      "metadata": {
        "colab": {
          "base_uri": "https://localhost:8080/"
        },
        "id": "dTq89qMpusAD",
        "outputId": "a8178a71-f2f0-4ff3-9deb-fef7860d35ed"
      },
      "execution_count": null,
      "outputs": [
        {
          "output_type": "stream",
          "name": "stdout",
          "text": [
            "+--------+------------------+------+------+------------------+------------+--------------------+--------------+--------------------+----------------+--------------------+\n",
            "|artistId|        artistName|userId|rating| normalized_rating|userId_index|          userId_vec|artistId_index|        artistId_vec|artistName_index|      artistName_vec|\n",
            "+--------+------------------+------+------+------------------+------------+--------------------+--------------+--------------------+----------------+--------------------+\n",
            "| 1045525|      Tupac Shakur|     1|   100|1.0101010101010102|     26421.0|(72844,[26421],[1...|          35.0|  (23182,[35],[1.0])|            35.0|  (22959,[35],[1.0])|\n",
            "| 1047584|      Shadows Fall|     1|   100|1.0101010101010102|     26421.0|(72844,[26421],[1...|        1009.0|(23182,[1009],[1.0])|          1006.0|(22959,[1006],[1.0])|\n",
            "| 1018143|    Mint Condition|     2|     0|               0.0|     54599.0|(72844,[54599],[1...|         667.0| (23182,[667],[1.0])|           668.0| (22959,[668],[1.0])|\n",
            "| 1053438|             Musiq|     2|    90|0.9090909090909091|     54599.0|(72844,[54599],[1...|         236.0| (23182,[236],[1.0])|           236.0| (22959,[236],[1.0])|\n",
            "| 1019512|   Nine Inch Nails|     4|    90|0.9090909090909091|     28233.0|(72844,[28233],[1...|         126.0| (23182,[126],[1.0])|           126.0| (22959,[126],[1.0])|\n",
            "| 1030811|     Jack Off Jill|     4|    90|0.9090909090909091|     28233.0|(72844,[28233],[1...|        1754.0|(23182,[1754],[1.0])|          1756.0|(22959,[1756],[1.0])|\n",
            "| 1042272| The White Stripes|     4|    90|0.9090909090909091|     28233.0|(72844,[28233],[1...|          47.0|  (23182,[47],[1.0])|            47.0|  (22959,[47],[1.0])|\n",
            "| 1049897|        Norma Jean|     4|     0|               0.0|     28233.0|(72844,[28233],[1...|        2947.0|(23182,[2947],[1.0])|          2946.0|(22959,[2946],[1.0])|\n",
            "| 1099394|  Coheed & Cambria|     4|     0|               0.0|     28233.0|(72844,[28233],[1...|         519.0| (23182,[519],[1.0])|           519.0| (22959,[519],[1.0])|\n",
            "| 1014120|          R. Kelly|     5|   100|1.0101010101010102|     15619.0|(72844,[15619],[1...|          96.0|  (23182,[96],[1.0])|            96.0|  (22959,[96],[1.0])|\n",
            "| 1014252|          Kid Rock|     5|     0|               0.0|     15619.0|(72844,[15619],[1...|          30.0|  (23182,[30],[1.0])|            30.0|  (22959,[30],[1.0])|\n",
            "| 1022980|         The Roots|     5|    90|0.9090909090909091|     15619.0|(72844,[15619],[1...|         248.0| (23182,[248],[1.0])|           248.0| (22959,[248],[1.0])|\n",
            "| 1026260|       Keith Sweat|     5|   100|1.0101010101010102|     15619.0|(72844,[15619],[1...|          99.0|  (23182,[99],[1.0])|            99.0|  (22959,[99],[1.0])|\n",
            "| 1098048|       Simple Plan|     5|     0|               0.0|     15619.0|(72844,[15619],[1...|          42.0|  (23182,[42],[1.0])|            42.0|  (22959,[42],[1.0])|\n",
            "| 1099251|        Young Gunz|     5|   100|1.0101010101010102|     15619.0|(72844,[15619],[1...|         359.0| (23182,[359],[1.0])|           360.0| (22959,[360],[1.0])|\n",
            "| 1010542|     Goo Goo Dolls|     6|    70|0.7070707070707071|     16121.0|(72844,[16121],[1...|          21.0|  (23182,[21],[1.0])|            21.0|  (22959,[21],[1.0])|\n",
            "| 1015424|    Less Than Jake|     6|    50|0.5050505050505051|     16121.0|(72844,[16121],[1...|         409.0| (23182,[409],[1.0])|           410.0| (22959,[410],[1.0])|\n",
            "| 1017240|   Matchbox Twenty|     6|    50|0.5050505050505051|     16121.0|(72844,[16121],[1...|           9.0|   (23182,[9],[1.0])|             9.0|   (22959,[9],[1.0])|\n",
            "| 1021142|        Pink Floyd|     6|     0|               0.0|     16121.0|(72844,[16121],[1...|          73.0|  (23182,[73],[1.0])|            73.0|  (22959,[73],[1.0])|\n",
            "| 1022925|The Rolling Stones|     6|    70|0.7070707070707071|     16121.0|(72844,[16121],[1...|          75.0|  (23182,[75],[1.0])|            75.0|  (22959,[75],[1.0])|\n",
            "+--------+------------------+------+------+------------------+------------+--------------------+--------------+--------------------+----------------+--------------------+\n",
            "only showing top 20 rows\n",
            "\n"
          ]
        }
      ]
    },
    {
      "cell_type": "code",
      "source": [
        "encoded_training_data.printSchema()\n"
      ],
      "metadata": {
        "colab": {
          "base_uri": "https://localhost:8080/"
        },
        "id": "pz5Bhbw22ZQq",
        "outputId": "65473d74-d3f6-46f1-d07f-7d6adb393565"
      },
      "execution_count": 30,
      "outputs": [
        {
          "output_type": "stream",
          "name": "stdout",
          "text": [
            "root\n",
            " |-- artistId: string (nullable = true)\n",
            " |-- artistName: string (nullable = true)\n",
            " |-- userId: string (nullable = true)\n",
            " |-- rating: string (nullable = true)\n",
            " |-- normalized_rating: double (nullable = true)\n",
            " |-- userId_index: double (nullable = false)\n",
            " |-- userId_vec: vector (nullable = true)\n",
            " |-- artistId_index: double (nullable = false)\n",
            " |-- artistId_vec: vector (nullable = true)\n",
            " |-- artistName_index: double (nullable = false)\n",
            " |-- artistName_vec: vector (nullable = true)\n",
            "\n"
          ]
        }
      ]
    },
    {
      "cell_type": "code",
      "source": [
        "# Select only the required columns for training\n",
        "data_prep = encoded_training_data.select('userId_index', 'artistId_index', 'rating')\n",
        "\n",
        "# Drop any null values that may exist in the data\n",
        "data_prep = data_prep.dropna()\n"
      ],
      "metadata": {
        "id": "7x7IZDZa3f3b"
      },
      "execution_count": 33,
      "outputs": []
    },
    {
      "cell_type": "code",
      "source": [
        "data_prep.sample(0.1, seed=123).show()"
      ],
      "metadata": {
        "colab": {
          "base_uri": "https://localhost:8080/"
        },
        "id": "Z7gfMR0W3u0u",
        "outputId": "3c949b11-58cd-4b3c-d19c-3d3287284432"
      },
      "execution_count": 34,
      "outputs": [
        {
          "output_type": "stream",
          "name": "stdout",
          "text": [
            "+------------+--------------+------+\n",
            "|userId_index|artistId_index|rating|\n",
            "+------------+--------------+------+\n",
            "|     26421.0|          35.0|   100|\n",
            "|     26421.0|        1009.0|   100|\n",
            "|     54599.0|         667.0|     0|\n",
            "|     54599.0|         236.0|    90|\n",
            "|     28233.0|         126.0|    90|\n",
            "|     28233.0|        1754.0|    90|\n",
            "|     28233.0|          47.0|    90|\n",
            "|     28233.0|        2947.0|     0|\n",
            "|     28233.0|         519.0|     0|\n",
            "|     15619.0|          96.0|   100|\n",
            "|     15619.0|          30.0|     0|\n",
            "|     15619.0|         248.0|    90|\n",
            "|     15619.0|          99.0|   100|\n",
            "|     15619.0|          42.0|     0|\n",
            "|     15619.0|         359.0|   100|\n",
            "|     16121.0|          21.0|    70|\n",
            "|     16121.0|         409.0|    50|\n",
            "|     16121.0|           9.0|    50|\n",
            "|     16121.0|          73.0|     0|\n",
            "|     16121.0|          75.0|    70|\n",
            "+------------+--------------+------+\n",
            "only showing top 20 rows\n",
            "\n"
          ]
        }
      ]
    },
    {
      "cell_type": "markdown",
      "source": [
        "**Split into training and test data**"
      ],
      "metadata": {
        "id": "4rZrAIsi_TXG"
      }
    },
    {
      "cell_type": "code",
      "source": [
        "\n",
        "# Split the data into training and test datasets\n",
        "(train_data, test_data) = data_prep.randomSplit([0.8, 0.2], seed=123)\n",
        "\n",
        "# Cache the training data in memory\n",
        "train_data.cache()"
      ],
      "metadata": {
        "colab": {
          "base_uri": "https://localhost:8080/"
        },
        "id": "cv6hYiWozqQd",
        "outputId": "e229433d-eea6-4b96-8e55-28abd7d0ea57"
      },
      "execution_count": 35,
      "outputs": [
        {
          "output_type": "execute_result",
          "data": {
            "text/plain": [
              "DataFrame[userId_index: double, artistId_index: double, rating: string]"
            ]
          },
          "metadata": {},
          "execution_count": 35
        }
      ]
    },
    {
      "cell_type": "code",
      "source": [
        "# Count the number of distinct users and artists in the training data\n",
        "num_users = encoded_training_data.select('userId').distinct().count()\n",
        "num_artists = encoded_training_data.select('artistId').distinct().count()\n",
        "\n",
        "# Print some statistics about the data\n",
        "print('Number of training samples:', train_data.count())\n",
        "print('Number of test samples:', test_data.count())\n",
        "print('Number of distinct users:', num_users)\n",
        "print('Number of distinct artists:', num_artists)"
      ],
      "metadata": {
        "colab": {
          "base_uri": "https://localhost:8080/"
        },
        "id": "D6b69a4X1dK-",
        "outputId": "d7133688-48f9-4534-e529-70ab42eca367"
      },
      "execution_count": 37,
      "outputs": [
        {
          "output_type": "stream",
          "name": "stdout",
          "text": [
            "Number of training samples: 3503544\n",
            "Number of test samples: 877510\n",
            "Number of distinct users: 72845\n",
            "Number of distinct artists: 23183\n"
          ]
        }
      ]
    },
    {
      "cell_type": "markdown",
      "source": [
        "**Sample training data**"
      ],
      "metadata": {
        "id": "_LWzFC7444Ag"
      }
    },
    {
      "cell_type": "code",
      "source": [
        "# Sample 10 rows from the training data and display the result\n",
        "train_data.sample(False, 0.1, seed=123).show(20)"
      ],
      "metadata": {
        "colab": {
          "base_uri": "https://localhost:8080/"
        },
        "id": "CW4jgBjT1vX9",
        "outputId": "7bb8b255-ad44-4719-b871-df4513bbf794"
      },
      "execution_count": null,
      "outputs": [
        {
          "output_type": "stream",
          "name": "stdout",
          "text": [
            "+--------+------------+------+------+----------+\n",
            "|artistId|  artistName|userId|rating|rating_vec|\n",
            "+--------+------------+------+------+----------+\n",
            "| 1000004|'Til Tuesday| 18741|  20.0|    [20.0]|\n",
            "| 1000004|'Til Tuesday| 18933|  60.0|    [60.0]|\n",
            "| 1000004|'Til Tuesday| 19567|  19.0|    [19.0]|\n",
            "| 1000004|'Til Tuesday| 19898|  60.0|    [60.0]|\n",
            "| 1000004|'Til Tuesday| 21920|   0.0|     [0.0]|\n",
            "| 1000004|'Til Tuesday| 24155|   0.0|     [0.0]|\n",
            "| 1000004|'Til Tuesday| 24591|  90.0|    [90.0]|\n",
            "| 1000004|'Til Tuesday|  2519|   0.0|     [0.0]|\n",
            "| 1000004|'Til Tuesday|  2663|  90.0|    [90.0]|\n",
            "| 1000004|'Til Tuesday|  2974|   0.0|     [0.0]|\n",
            "| 1000004|'Til Tuesday| 30203|  50.0|    [50.0]|\n",
            "| 1000004|'Til Tuesday| 32857|   0.0|     [0.0]|\n",
            "| 1000004|'Til Tuesday| 34088|  50.0|    [50.0]|\n",
            "| 1000004|'Til Tuesday|  4584|  30.0|    [30.0]|\n",
            "| 1000004|'Til Tuesday|  5007|  30.0|    [30.0]|\n",
            "| 1000004|'Til Tuesday|  7845|  80.0|    [80.0]|\n",
            "| 1000006| .38 Special| 10294|  66.0|    [66.0]|\n",
            "| 1000006| .38 Special| 10580|   0.0|     [0.0]|\n",
            "| 1000006| .38 Special| 12310|  40.0|    [40.0]|\n",
            "| 1000006| .38 Special| 13607|  70.0|    [70.0]|\n",
            "+--------+------------+------+------+----------+\n",
            "only showing top 20 rows\n",
            "\n"
          ]
        }
      ]
    },
    {
      "cell_type": "markdown",
      "source": [
        "**Sample test data**"
      ],
      "metadata": {
        "id": "Z0p7TyrX5DKe"
      }
    },
    {
      "cell_type": "code",
      "source": [
        "# Sample 10 rows from the test data and display the result\n",
        "test_data.sample(False, 0.1, seed=123).show(20)"
      ],
      "metadata": {
        "colab": {
          "base_uri": "https://localhost:8080/"
        },
        "id": "XukA5LNS1z4k",
        "outputId": "0392af3b-5466-42c7-f342-d1cca023a036"
      },
      "execution_count": 38,
      "outputs": [
        {
          "output_type": "stream",
          "name": "stdout",
          "text": [
            "+------------+--------------+------+\n",
            "|userId_index|artistId_index|rating|\n",
            "+------------+--------------+------+\n",
            "|         0.0|         193.0|     0|\n",
            "|         0.0|         195.0|     0|\n",
            "|         0.0|         200.0|    30|\n",
            "|         0.0|         205.0|    40|\n",
            "|         0.0|         267.0|     0|\n",
            "|         0.0|         307.0|    22|\n",
            "|         0.0|         318.0|     0|\n",
            "|         0.0|         374.0|    70|\n",
            "|         0.0|         421.0|     0|\n",
            "|         0.0|         503.0|    85|\n",
            "|         0.0|         511.0|     0|\n",
            "|         0.0|         566.0|    70|\n",
            "|         0.0|         579.0|    12|\n",
            "|         0.0|         762.0|     0|\n",
            "|         0.0|         768.0|     0|\n",
            "|         0.0|         797.0|    50|\n",
            "|         0.0|         819.0|    50|\n",
            "|         0.0|         829.0|    40|\n",
            "|         0.0|         846.0|     0|\n",
            "|         0.0|         872.0|     0|\n",
            "+------------+--------------+------+\n",
            "only showing top 20 rows\n",
            "\n"
          ]
        }
      ]
    },
    {
      "cell_type": "markdown",
      "source": [
        "## Train model"
      ],
      "metadata": {
        "id": "mG8V2GUxE8SD"
      }
    },
    {
      "cell_type": "code",
      "source": [],
      "metadata": {
        "id": "a17M9sKRFBX4"
      },
      "execution_count": 38,
      "outputs": []
    },
    {
      "cell_type": "markdown",
      "source": [
        "## Evaluate model"
      ],
      "metadata": {
        "id": "JlrOclozbs4w"
      }
    },
    {
      "cell_type": "code",
      "source": [],
      "metadata": {
        "id": "aH3jfoAIb2F0"
      },
      "execution_count": null,
      "outputs": []
    },
    {
      "cell_type": "markdown",
      "source": [
        "## New Recommendation"
      ],
      "metadata": {
        "id": "cNembhwmd7k9"
      }
    },
    {
      "cell_type": "code",
      "source": [],
      "metadata": {
        "id": "2NqN83fUeBKS"
      },
      "execution_count": null,
      "outputs": []
    }
  ]
}